{
 "cells": [
  {
   "cell_type": "code",
   "execution_count": 2,
   "id": "566df4b9",
   "metadata": {},
   "outputs": [],
   "source": [
    "import pandas as pd\n"
   ]
  },
  {
   "cell_type": "code",
   "execution_count": 4,
   "id": "13817b39",
   "metadata": {},
   "outputs": [],
   "source": [
    "df=pd.read_excel(\"Data/British Airways Summer Schedule Dataset - Forage Data Science Task 1 - Copy.xlsx\",sheet_name=0)"
   ]
  },
  {
   "cell_type": "code",
   "execution_count": 6,
   "id": "8322805f",
   "metadata": {},
   "outputs": [
    {
     "data": {
      "text/plain": [
       "Index(['FLIGHT_DATE', 'FLIGHT_TIME', 'TIME_OF_DAY', 'AIRLINE_CD', 'FLIGHT_NO',\n",
       "       'DEPARTURE_STATION_CD', 'ARRIVAL_STATION_CD', 'ARRIVAL_COUNTRY',\n",
       "       'ARRIVAL_REGION', 'HAUL', 'AIRCRAFT_TYPE', 'FIRST_CLASS_SEATS',\n",
       "       'BUSINESS_CLASS_SEATS', 'ECONOMY_SEATS', 'TIER1_ELIGIBLE_PAX',\n",
       "       'TIER2_ELIGIBLE_PAX', 'TIER3_ELIGIBLE_PAX'],\n",
       "      dtype='object')"
      ]
     },
     "execution_count": 6,
     "metadata": {},
     "output_type": "execute_result"
    }
   ],
   "source": [
    "df.columns"
   ]
  },
  {
   "cell_type": "code",
   "execution_count": 7,
   "id": "04c43fdc",
   "metadata": {},
   "outputs": [
    {
     "data": {
      "text/html": [
       "<div>\n",
       "<style scoped>\n",
       "    .dataframe tbody tr th:only-of-type {\n",
       "        vertical-align: middle;\n",
       "    }\n",
       "\n",
       "    .dataframe tbody tr th {\n",
       "        vertical-align: top;\n",
       "    }\n",
       "\n",
       "    .dataframe thead th {\n",
       "        text-align: right;\n",
       "    }\n",
       "</style>\n",
       "<table border=\"1\" class=\"dataframe\">\n",
       "  <thead>\n",
       "    <tr style=\"text-align: right;\">\n",
       "      <th></th>\n",
       "      <th>FLIGHT_DATE</th>\n",
       "      <th>FLIGHT_TIME</th>\n",
       "      <th>TIME_OF_DAY</th>\n",
       "      <th>AIRLINE_CD</th>\n",
       "      <th>FLIGHT_NO</th>\n",
       "      <th>DEPARTURE_STATION_CD</th>\n",
       "      <th>ARRIVAL_STATION_CD</th>\n",
       "      <th>ARRIVAL_COUNTRY</th>\n",
       "      <th>ARRIVAL_REGION</th>\n",
       "      <th>HAUL</th>\n",
       "      <th>AIRCRAFT_TYPE</th>\n",
       "      <th>FIRST_CLASS_SEATS</th>\n",
       "      <th>BUSINESS_CLASS_SEATS</th>\n",
       "      <th>ECONOMY_SEATS</th>\n",
       "      <th>TIER1_ELIGIBLE_PAX</th>\n",
       "      <th>TIER2_ELIGIBLE_PAX</th>\n",
       "      <th>TIER3_ELIGIBLE_PAX</th>\n",
       "    </tr>\n",
       "  </thead>\n",
       "  <tbody>\n",
       "    <tr>\n",
       "      <th>0</th>\n",
       "      <td>2025-09-02</td>\n",
       "      <td>14:19:00</td>\n",
       "      <td>Afternoon</td>\n",
       "      <td>BA</td>\n",
       "      <td>BA5211</td>\n",
       "      <td>LHR</td>\n",
       "      <td>LAX</td>\n",
       "      <td>USA</td>\n",
       "      <td>North America</td>\n",
       "      <td>LONG</td>\n",
       "      <td>B777</td>\n",
       "      <td>8</td>\n",
       "      <td>49</td>\n",
       "      <td>178</td>\n",
       "      <td>0</td>\n",
       "      <td>10</td>\n",
       "      <td>38</td>\n",
       "    </tr>\n",
       "    <tr>\n",
       "      <th>1</th>\n",
       "      <td>2025-06-10</td>\n",
       "      <td>06:42:00</td>\n",
       "      <td>Morning</td>\n",
       "      <td>BA</td>\n",
       "      <td>BA7282</td>\n",
       "      <td>LHR</td>\n",
       "      <td>LAX</td>\n",
       "      <td>USA</td>\n",
       "      <td>North America</td>\n",
       "      <td>LONG</td>\n",
       "      <td>B777</td>\n",
       "      <td>8</td>\n",
       "      <td>49</td>\n",
       "      <td>178</td>\n",
       "      <td>0</td>\n",
       "      <td>7</td>\n",
       "      <td>28</td>\n",
       "    </tr>\n",
       "    <tr>\n",
       "      <th>2</th>\n",
       "      <td>2025-10-27</td>\n",
       "      <td>15:33:00</td>\n",
       "      <td>Afternoon</td>\n",
       "      <td>BA</td>\n",
       "      <td>BA1896</td>\n",
       "      <td>LHR</td>\n",
       "      <td>FRA</td>\n",
       "      <td>Germany</td>\n",
       "      <td>Europe</td>\n",
       "      <td>SHORT</td>\n",
       "      <td>A320</td>\n",
       "      <td>0</td>\n",
       "      <td>17</td>\n",
       "      <td>163</td>\n",
       "      <td>0</td>\n",
       "      <td>11</td>\n",
       "      <td>40</td>\n",
       "    </tr>\n",
       "    <tr>\n",
       "      <th>3</th>\n",
       "      <td>2025-06-15</td>\n",
       "      <td>18:29:00</td>\n",
       "      <td>Evening</td>\n",
       "      <td>BA</td>\n",
       "      <td>BA5497</td>\n",
       "      <td>LHR</td>\n",
       "      <td>IST</td>\n",
       "      <td>Turkey</td>\n",
       "      <td>Europe</td>\n",
       "      <td>SHORT</td>\n",
       "      <td>A320</td>\n",
       "      <td>0</td>\n",
       "      <td>8</td>\n",
       "      <td>172</td>\n",
       "      <td>0</td>\n",
       "      <td>16</td>\n",
       "      <td>54</td>\n",
       "    </tr>\n",
       "    <tr>\n",
       "      <th>4</th>\n",
       "      <td>2025-08-25</td>\n",
       "      <td>20:35:00</td>\n",
       "      <td>Evening</td>\n",
       "      <td>BA</td>\n",
       "      <td>BA1493</td>\n",
       "      <td>LHR</td>\n",
       "      <td>FRA</td>\n",
       "      <td>Germany</td>\n",
       "      <td>Europe</td>\n",
       "      <td>SHORT</td>\n",
       "      <td>A320</td>\n",
       "      <td>0</td>\n",
       "      <td>13</td>\n",
       "      <td>167</td>\n",
       "      <td>0</td>\n",
       "      <td>6</td>\n",
       "      <td>27</td>\n",
       "    </tr>\n",
       "  </tbody>\n",
       "</table>\n",
       "</div>"
      ],
      "text/plain": [
       "  FLIGHT_DATE FLIGHT_TIME TIME_OF_DAY AIRLINE_CD FLIGHT_NO  \\\n",
       "0  2025-09-02    14:19:00   Afternoon         BA    BA5211   \n",
       "1  2025-06-10    06:42:00     Morning         BA    BA7282   \n",
       "2  2025-10-27    15:33:00   Afternoon         BA    BA1896   \n",
       "3  2025-06-15    18:29:00     Evening         BA    BA5497   \n",
       "4  2025-08-25    20:35:00     Evening         BA    BA1493   \n",
       "\n",
       "  DEPARTURE_STATION_CD ARRIVAL_STATION_CD ARRIVAL_COUNTRY ARRIVAL_REGION  \\\n",
       "0                  LHR                LAX             USA  North America   \n",
       "1                  LHR                LAX             USA  North America   \n",
       "2                  LHR                FRA         Germany         Europe   \n",
       "3                  LHR                IST          Turkey         Europe   \n",
       "4                  LHR                FRA         Germany         Europe   \n",
       "\n",
       "    HAUL AIRCRAFT_TYPE  FIRST_CLASS_SEATS  BUSINESS_CLASS_SEATS  \\\n",
       "0   LONG          B777                  8                    49   \n",
       "1   LONG          B777                  8                    49   \n",
       "2  SHORT          A320                  0                    17   \n",
       "3  SHORT          A320                  0                     8   \n",
       "4  SHORT          A320                  0                    13   \n",
       "\n",
       "   ECONOMY_SEATS  TIER1_ELIGIBLE_PAX  TIER2_ELIGIBLE_PAX  TIER3_ELIGIBLE_PAX  \n",
       "0            178                   0                  10                  38  \n",
       "1            178                   0                   7                  28  \n",
       "2            163                   0                  11                  40  \n",
       "3            172                   0                  16                  54  \n",
       "4            167                   0                   6                  27  "
      ]
     },
     "execution_count": 7,
     "metadata": {},
     "output_type": "execute_result"
    }
   ],
   "source": [
    "df.head(5)"
   ]
  },
  {
   "cell_type": "code",
   "execution_count": 9,
   "id": "7e2c3a1a",
   "metadata": {},
   "outputs": [],
   "source": [
    "group_cols = ['HAUL', 'ARRIVAL_REGION', 'TIME_OF_DAY']"
   ]
  },
  {
   "cell_type": "code",
   "execution_count": 22,
   "id": "720dbb07",
   "metadata": {},
   "outputs": [
    {
     "name": "stdout",
     "output_type": "stream",
     "text": [
      "['LONG' 'SHORT']\n"
     ]
    }
   ],
   "source": [
    "assumptions = {\n",
    "    'SHORT':  {'Tier1': 0.002, 'Tier2': 0.015, 'Tier3': 0.08},\n",
    "    'LONG':   {'Tier1': 0.02,  'Tier2': 0.08,  'Tier3': 0.25}\n",
    "}\n",
    "print(df['HAUL'].unique())"
   ]
  },
  {
   "cell_type": "code",
   "execution_count": 24,
   "id": "642fa182",
   "metadata": {},
   "outputs": [],
   "source": [
    "df['TOTAL_PAX'] = df['FIRST_CLASS_SEATS'] + df['BUSINESS_CLASS_SEATS'] + df['ECONOMY_SEATS']\n",
    "\n"
   ]
  },
  {
   "cell_type": "code",
   "execution_count": 25,
   "id": "64d0a7aa",
   "metadata": {},
   "outputs": [],
   "source": [
    "def get_eligible(row, tier):\n",
    "    haul_type = row['HAUL']\n",
    "    base = assumptions.get(haul_type, {'Tier1':0, 'Tier2':0, 'Tier3':0})\n",
    "    return row['TOTAL_PAX'] * base[tier]\n",
    "\n",
    "df['TIER1_ELIGIBLE_PAX'] = df.apply(lambda r: get_eligible(r, 'Tier1'), axis=1)\n",
    "df['TIER2_ELIGIBLE_PAX'] = df.apply(lambda r: get_eligible(r, 'Tier2'), axis=1)\n",
    "df['TIER3_ELIGIBLE_PAX'] = df.apply(lambda r: get_eligible(r, 'Tier3'), axis=1)"
   ]
  },
  {
   "cell_type": "code",
   "execution_count": 26,
   "id": "d1748007",
   "metadata": {},
   "outputs": [],
   "source": [
    "lookup = df.groupby(group_cols)[['TIER1_ELIGIBLE_PAX', 'TIER2_ELIGIBLE_PAX', 'TIER3_ELIGIBLE_PAX']].mean().reset_index()\n"
   ]
  },
  {
   "cell_type": "code",
   "execution_count": 27,
   "id": "5724fc10",
   "metadata": {},
   "outputs": [
    {
     "name": "stdout",
     "output_type": "stream",
     "text": [
      "   HAUL ARRIVAL_REGION TIME_OF_DAY  TIER1_ELIGIBLE_PAX  TIER2_ELIGIBLE_PAX  \\\n",
      "0  LONG           Asia   Afternoon            5.838553           23.354211   \n",
      "1  LONG           Asia     Evening            5.791068           23.164272   \n",
      "2  LONG           Asia   Lunchtime            5.780267           23.121067   \n",
      "3  LONG           Asia     Morning            5.825854           23.303415   \n",
      "4  LONG    Middle East   Afternoon            5.923522           23.694088   \n",
      "5  LONG    Middle East     Evening            5.846368           23.385473   \n",
      "6  LONG    Middle East   Lunchtime            5.693671           22.774684   \n",
      "7  LONG    Middle East     Morning            5.807952           23.231807   \n",
      "8  LONG  North America   Afternoon            5.836656           23.346624   \n",
      "9  LONG  North America     Evening            5.843269           23.373078   \n",
      "\n",
      "   TIER3_ELIGIBLE_PAX  \n",
      "0           72.981908  \n",
      "1           72.388350  \n",
      "2           72.253333  \n",
      "3           72.823171  \n",
      "4           74.044025  \n",
      "5           73.079602  \n",
      "6           71.170886  \n",
      "7           72.599398  \n",
      "8           72.958201  \n",
      "9           73.040868  \n"
     ]
    }
   ],
   "source": [
    "print(lookup.head(10))\n"
   ]
  },
  {
   "cell_type": "code",
   "execution_count": 31,
   "id": "8331f39b",
   "metadata": {},
   "outputs": [],
   "source": [
    "lookup.to_csv(\"lookup\",index=False)"
   ]
  },
  {
   "cell_type": "code",
   "execution_count": null,
   "id": "feab66a8",
   "metadata": {},
   "outputs": [],
   "source": []
  }
 ],
 "metadata": {
  "kernelspec": {
   "display_name": "Python 3",
   "language": "python",
   "name": "python3"
  },
  "language_info": {
   "codemirror_mode": {
    "name": "ipython",
    "version": 3
   },
   "file_extension": ".py",
   "mimetype": "text/x-python",
   "name": "python",
   "nbconvert_exporter": "python",
   "pygments_lexer": "ipython3",
   "version": "3.14.0"
  }
 },
 "nbformat": 4,
 "nbformat_minor": 5
}
